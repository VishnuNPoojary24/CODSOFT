{
 "cells": [
  {
   "cell_type": "markdown",
   "id": "54fdc1b0",
   "metadata": {},
   "source": [
    "# SPAM SMS DETECTION\n",
    "## Build an AI model that can classify SMS messages as spam orlegitimate. Use techniques like TF-IDF or word embeddings withclassifiers like Naive Bayes, Logistic Regression, or Support Vector Machines to identify spam messages"
   ]
  },
  {
   "cell_type": "code",
   "execution_count": 12,
   "id": "52293c2c",
   "metadata": {},
   "outputs": [],
   "source": [
    "# importing the necessary libraries\n",
    "import pandas as pd\n",
    "from sklearn.model_selection import train_test_split\n",
    "from sklearn.feature_extraction.text import TfidfVectorizer\n",
    "from sklearn.naive_bayes import MultinomialNB\n",
    "from sklearn.metrics import accuracy_score, classification_report, confusion_matrix\n",
    "from nltk.corpus import stopwords\n",
    "from nltk.stem import PorterStemmer\n",
    "from sklearn.pipeline import Pipeline"
   ]
  },
  {
   "cell_type": "code",
   "execution_count": 13,
   "id": "90a81e8b",
   "metadata": {},
   "outputs": [],
   "source": [
    "# Loading the SMS spam dataset\n",
    "df = pd.read_csv(\"D:\\\\Codesoft\\\\Spam\\\\spam.csv\", encoding='latin-1')"
   ]
  },
  {
   "cell_type": "code",
   "execution_count": 14,
   "id": "8bb3df20",
   "metadata": {},
   "outputs": [],
   "source": [
    "# Preprocessing: Removing stop words and stemming\n",
    "stop_words = set(stopwords.words(\"english\"))\n",
    "stemmer = PorterStemmer()"
   ]
  },
  {
   "cell_type": "code",
   "execution_count": 15,
   "id": "515a79cc",
   "metadata": {},
   "outputs": [],
   "source": [
    "def preprocess_text(text):\n",
    "    words = text.split()\n",
    "    words = [stemmer.stem(word) for word in words if word.lower() not in stop_words]\n",
    "    return \" \".join(words)"
   ]
  },
  {
   "cell_type": "code",
   "execution_count": 16,
   "id": "82e134a2",
   "metadata": {},
   "outputs": [],
   "source": [
    "df['SMS'] = df['SMS'].apply(preprocess_text)"
   ]
  },
  {
   "cell_type": "code",
   "execution_count": 17,
   "id": "2dd8f0e8",
   "metadata": {},
   "outputs": [],
   "source": [
    "# Spliting the dataset into training and testing sets\n",
    "X_train, X_test, y_train, y_test = train_test_split(df['SMS'], df['Label'], test_size=0.2, random_state=42)"
   ]
  },
  {
   "cell_type": "code",
   "execution_count": 18,
   "id": "ead50cca",
   "metadata": {},
   "outputs": [],
   "source": [
    "# Creating a pipeline with TF-IDF vectorizer and Naive Bayes classifier\n",
    "model = Pipeline([\n",
    "    ('tfidf', TfidfVectorizer()),\n",
    "    ('classifier', MultinomialNB())\n",
    "])\n",
    "\n",
    "# Train the model\n",
    "model.fit(X_train, y_train)\n",
    "\n",
    "# Make predictions on the test set\n",
    "predictions = model.predict(X_test)"
   ]
  },
  {
   "cell_type": "code",
   "execution_count": 19,
   "id": "356c6f03",
   "metadata": {},
   "outputs": [
    {
     "data": {
      "text/plain": [
       "3245    funni fact nobodi teach volcano 2 erupt, tsuna...\n",
       "944     sent score sopha secondari applic schools. thi...\n",
       "1044    know someon know fanci you. call 09058097218 f...\n",
       "2484     promis get soon can. text morn let know made ok.\n",
       "812     congratul ur award either å£500 cd gift vouche...\n",
       "2973                       i'll text carlo let know, hang\n",
       "2991                     k.i did't see you.:)k:)wher now?\n",
       "2942                  message..no responce..what happend?\n",
       "230     get gandhipuram walk cross cut road. right sid...\n",
       "1181                                    flippin shit yet?\n",
       "Name: SMS, dtype: object"
      ]
     },
     "execution_count": 19,
     "metadata": {},
     "output_type": "execute_result"
    }
   ],
   "source": [
    "X_test.head(10)"
   ]
  },
  {
   "cell_type": "code",
   "execution_count": 20,
   "id": "7069409f",
   "metadata": {},
   "outputs": [
    {
     "data": {
      "text/plain": [
       "array(['Not spam', 'Not spam', 'Not spam', ..., 'Not spam', 'Not spam',\n",
       "       'spam'], dtype='<U8')"
      ]
     },
     "execution_count": 20,
     "metadata": {},
     "output_type": "execute_result"
    }
   ],
   "source": [
    "predictions"
   ]
  },
  {
   "cell_type": "code",
   "execution_count": 21,
   "id": "6012f93d",
   "metadata": {},
   "outputs": [
    {
     "data": {
      "text/plain": [
       "3245    Not spam\n",
       "944     Not spam\n",
       "1044        spam\n",
       "2484    Not spam\n",
       "812         spam\n",
       "2973    Not spam\n",
       "2991    Not spam\n",
       "2942    Not spam\n",
       "230     Not spam\n",
       "1181    Not spam\n",
       "Name: Label, dtype: object"
      ]
     },
     "execution_count": 21,
     "metadata": {},
     "output_type": "execute_result"
    }
   ],
   "source": [
    "y_test.head(10)"
   ]
  },
  {
   "cell_type": "code",
   "execution_count": 22,
   "id": "c4c51a87",
   "metadata": {},
   "outputs": [
    {
     "data": {
      "text/plain": [
       "0.9668161434977578"
      ]
     },
     "execution_count": 22,
     "metadata": {},
     "output_type": "execute_result"
    }
   ],
   "source": [
    "#checking the accuracy of the model\n",
    "from sklearn.metrics import accuracy_score\n",
    "accuracy_score(predictions,y_test)"
   ]
  },
  {
   "cell_type": "code",
   "execution_count": 23,
   "id": "9cc7e6a7",
   "metadata": {},
   "outputs": [],
   "source": [
    "#displaying full data\n",
    "import numpy as np\n",
    "pd.set_option('display.max_rows', None)\n",
    "pd.set_option('display.max_columns', None)\n",
    "pd.set_option('display.width', None)\n",
    "np.set_printoptions(threshold=np.inf)"
   ]
  },
  {
   "cell_type": "code",
   "execution_count": 24,
   "id": "15c56d50",
   "metadata": {},
   "outputs": [
    {
     "name": "stdout",
     "output_type": "stream",
     "text": [
      "Confusion Matrix:\n",
      "[[965   0]\n",
      " [ 37 113]]\n",
      "Classification Report:\n",
      "              precision    recall  f1-score   support\n",
      "\n",
      "    Not spam       0.96      1.00      0.98       965\n",
      "        spam       1.00      0.75      0.86       150\n",
      "\n",
      "    accuracy                           0.97      1115\n",
      "   macro avg       0.98      0.88      0.92      1115\n",
      "weighted avg       0.97      0.97      0.96      1115\n",
      "\n"
     ]
    }
   ],
   "source": [
    "#confusion matrix\n",
    "conf_matrix = confusion_matrix(y_test, predictions)\n",
    "classification_rep = classification_report(y_test, predictions)\n",
    "print(\"Confusion Matrix:\")\n",
    "print(conf_matrix)\n",
    "print(\"Classification Report:\")\n",
    "print(classification_rep)"
   ]
  },
  {
   "cell_type": "code",
   "execution_count": 25,
   "id": "b80f016b",
   "metadata": {},
   "outputs": [
    {
     "name": "stdout",
     "output_type": "stream",
     "text": [
      "Enter an SMS message: congratul ur award either å£500 cd gift vouche...\n",
      "Prediction: spam\n"
     ]
    }
   ],
   "source": [
    "# Taking the user input\n",
    "user_input = input(\"Enter an SMS message: \")\n",
    "\n",
    "# Making predictions on the user input\n",
    "user_prediction = model.predict([preprocess_text(user_input)])\n",
    "\n",
    "# Displaying the prediction\n",
    "print(f\"Prediction: {user_prediction[0]}\")"
   ]
  },
  {
   "cell_type": "code",
   "execution_count": null,
   "id": "044f4542",
   "metadata": {},
   "outputs": [],
   "source": []
  }
 ],
 "metadata": {
  "kernelspec": {
   "display_name": "Python 3 (ipykernel)",
   "language": "python",
   "name": "python3"
  },
  "language_info": {
   "codemirror_mode": {
    "name": "ipython",
    "version": 3
   },
   "file_extension": ".py",
   "mimetype": "text/x-python",
   "name": "python",
   "nbconvert_exporter": "python",
   "pygments_lexer": "ipython3",
   "version": "3.9.13"
  }
 },
 "nbformat": 4,
 "nbformat_minor": 5
}
