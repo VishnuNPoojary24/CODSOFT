{
 "cells": [
  {
   "cell_type": "markdown",
   "id": "66e4ccba",
   "metadata": {},
   "source": [
    "# MOVIE GENRE CLASSIFICATION\n",
    "## Create a machine learning model that can predict the genre of a movie based on its plot summary or other textual information. You can use techniques like TF-IDF or word embeddings with classifiers such as Naive Bayes, Logistic Regression, or Support Vector Machines."
   ]
  },
  {
   "cell_type": "code",
   "execution_count": 43,
   "id": "ecca1920",
   "metadata": {},
   "outputs": [],
   "source": [
    "# Importing necessary libraries\n",
    "import pandas as pd\n",
    "import numpy as np\n",
    "from sklearn.feature_extraction.text import TfidfVectorizer\n",
    "from sklearn.svm import SVC\n",
    "from sklearn.metrics import classification_report\n",
    "from sklearn.metrics import classification_report, confusion_matrix, accuracy_score"
   ]
  },
  {
   "cell_type": "code",
   "execution_count": 48,
   "id": "64389da5",
   "metadata": {},
   "outputs": [
    {
     "data": {
      "text/html": [
       "<div>\n",
       "<style scoped>\n",
       "    .dataframe tbody tr th:only-of-type {\n",
       "        vertical-align: middle;\n",
       "    }\n",
       "\n",
       "    .dataframe tbody tr th {\n",
       "        vertical-align: top;\n",
       "    }\n",
       "\n",
       "    .dataframe thead th {\n",
       "        text-align: right;\n",
       "    }\n",
       "</style>\n",
       "<table border=\"1\" class=\"dataframe\">\n",
       "  <thead>\n",
       "    <tr style=\"text-align: right;\">\n",
       "      <th></th>\n",
       "      <th>ID</th>\n",
       "      <th>TITLE</th>\n",
       "      <th>GENRE</th>\n",
       "      <th>DESCRIPTION</th>\n",
       "    </tr>\n",
       "  </thead>\n",
       "  <tbody>\n",
       "    <tr>\n",
       "      <th>0</th>\n",
       "      <td>1</td>\n",
       "      <td>Oscar et la dame rose (2009)</td>\n",
       "      <td>drama</td>\n",
       "      <td>Listening in to a conversation between his do...</td>\n",
       "    </tr>\n",
       "    <tr>\n",
       "      <th>1</th>\n",
       "      <td>2</td>\n",
       "      <td>Cupid (1997)</td>\n",
       "      <td>thriller</td>\n",
       "      <td>A brother and sister with a past incestuous r...</td>\n",
       "    </tr>\n",
       "    <tr>\n",
       "      <th>2</th>\n",
       "      <td>3</td>\n",
       "      <td>Young, Wild and Wonderful (1980)</td>\n",
       "      <td>adult</td>\n",
       "      <td>As the bus empties the students for their fie...</td>\n",
       "    </tr>\n",
       "    <tr>\n",
       "      <th>3</th>\n",
       "      <td>4</td>\n",
       "      <td>The Secret Sin (1915)</td>\n",
       "      <td>drama</td>\n",
       "      <td>To help their unemployed father make ends mee...</td>\n",
       "    </tr>\n",
       "    <tr>\n",
       "      <th>4</th>\n",
       "      <td>5</td>\n",
       "      <td>The Unrecovered (2007)</td>\n",
       "      <td>drama</td>\n",
       "      <td>The film's title refers not only to the un-re...</td>\n",
       "    </tr>\n",
       "  </tbody>\n",
       "</table>\n",
       "</div>"
      ],
      "text/plain": [
       "   ID                               TITLE       GENRE  \\\n",
       "0   1       Oscar et la dame rose (2009)       drama    \n",
       "1   2                       Cupid (1997)    thriller    \n",
       "2   3   Young, Wild and Wonderful (1980)       adult    \n",
       "3   4              The Secret Sin (1915)       drama    \n",
       "4   5             The Unrecovered (2007)       drama    \n",
       "\n",
       "                                         DESCRIPTION  \n",
       "0   Listening in to a conversation between his do...  \n",
       "1   A brother and sister with a past incestuous r...  \n",
       "2   As the bus empties the students for their fie...  \n",
       "3   To help their unemployed father make ends mee...  \n",
       "4   The film's title refers not only to the un-re...  "
      ]
     },
     "execution_count": 48,
     "metadata": {},
     "output_type": "execute_result"
    }
   ],
   "source": [
    "# Loading the dataset (replace 'your_dataset.csv' with your actual dataset)\n",
    "df = pd.read_csv(\"C:\\\\Users\\\\91831\\\\Downloads\\\\train_data.csv\")\n",
    "df.head()"
   ]
  },
  {
   "cell_type": "code",
   "execution_count": 3,
   "id": "91c0d0c3",
   "metadata": {},
   "outputs": [],
   "source": [
    "# Assuming your dataset has columns 'Description' and 'Genre'\n",
    "X = df['DESCRIPTION']\n",
    "y = df['GENRE']"
   ]
  },
  {
   "cell_type": "code",
   "execution_count": 4,
   "id": "44706360",
   "metadata": {},
   "outputs": [],
   "source": [
    "# Converting the plot summaries to TF-IDF features\n",
    "vectorizer = TfidfVectorizer(stop_words='english')\n",
    "X_tfidf = vectorizer.fit_transform(X)"
   ]
  },
  {
   "cell_type": "code",
   "execution_count": 5,
   "id": "00a19988",
   "metadata": {},
   "outputs": [],
   "source": [
    "# Initializing a Support Vector Machine (SVM) classifier\n",
    "classifier = SVC(kernel='linear', C=1.0, random_state=42)"
   ]
  },
  {
   "cell_type": "code",
   "execution_count": 6,
   "id": "53b8c52f",
   "metadata": {},
   "outputs": [
    {
     "data": {
      "text/plain": [
       "SVC(kernel='linear', random_state=42)"
      ]
     },
     "execution_count": 6,
     "metadata": {},
     "output_type": "execute_result"
    }
   ],
   "source": [
    "# Training the classifier on the full dataset\n",
    "classifier.fit(X_tfidf, y)"
   ]
  },
  {
   "cell_type": "code",
   "execution_count": 7,
   "id": "7d05f803",
   "metadata": {},
   "outputs": [],
   "source": [
    "# Loading the test dataset (replace 'your_test_dataset.csv' with your actual test dataset)\n",
    "test_df = pd.read_csv(\"C:\\\\Users\\\\91831\\\\Downloads\\\\test_data.csv\")"
   ]
  },
  {
   "cell_type": "code",
   "execution_count": 8,
   "id": "246722c9",
   "metadata": {},
   "outputs": [],
   "source": [
    "# Assuming your test dataset has a column 'Description' for the test descriptions\n",
    "test_descriptions = test_df['DESCRIPTION']"
   ]
  },
  {
   "cell_type": "code",
   "execution_count": 9,
   "id": "214e0fb1",
   "metadata": {},
   "outputs": [],
   "source": [
    "# Handling missing values (replace NaN with an empty string)\n",
    "test_descriptions = test_descriptions.fillna('')\n",
    "\n",
    "# Converting the test plot summaries to TF-IDF features using the same vectorizer\n",
    "test_tfidf = vectorizer.transform(test_descriptions)"
   ]
  },
  {
   "cell_type": "code",
   "execution_count": 10,
   "id": "38a112f3",
   "metadata": {},
   "outputs": [],
   "source": [
    "# Making predictions on the test dataset\n",
    "test_predictions = classifier.predict(test_tfidf)"
   ]
  },
  {
   "cell_type": "code",
   "execution_count": 11,
   "id": "3864b147",
   "metadata": {},
   "outputs": [
    {
     "name": "stdout",
     "output_type": "stream",
     "text": [
      "Predicted Genres for Test Dataset:\n",
      "[' drama ' ' drama ' ' documentary ' ... ' comedy ' ' drama '\n",
      " ' documentary ']\n"
     ]
    }
   ],
   "source": [
    "print('Predicted Genres for Test Dataset:')\n",
    "print(test_predictions)"
   ]
  },
  {
   "cell_type": "code",
   "execution_count": 66,
   "id": "1510afa6",
   "metadata": {},
   "outputs": [],
   "source": [
    "# Converting array to Dataframe\n",
    "td=pd.DataFrame(test_predictions)"
   ]
  },
  {
   "cell_type": "code",
   "execution_count": 68,
   "id": "e81c823d",
   "metadata": {},
   "outputs": [
    {
     "data": {
      "text/html": [
       "<div>\n",
       "<style scoped>\n",
       "    .dataframe tbody tr th:only-of-type {\n",
       "        vertical-align: middle;\n",
       "    }\n",
       "\n",
       "    .dataframe tbody tr th {\n",
       "        vertical-align: top;\n",
       "    }\n",
       "\n",
       "    .dataframe thead th {\n",
       "        text-align: right;\n",
       "    }\n",
       "</style>\n",
       "<table border=\"1\" class=\"dataframe\">\n",
       "  <thead>\n",
       "    <tr style=\"text-align: right;\">\n",
       "      <th></th>\n",
       "      <th>0</th>\n",
       "    </tr>\n",
       "  </thead>\n",
       "  <tbody>\n",
       "    <tr>\n",
       "      <th>0</th>\n",
       "      <td>drama</td>\n",
       "    </tr>\n",
       "    <tr>\n",
       "      <th>1</th>\n",
       "      <td>drama</td>\n",
       "    </tr>\n",
       "    <tr>\n",
       "      <th>2</th>\n",
       "      <td>documentary</td>\n",
       "    </tr>\n",
       "    <tr>\n",
       "      <th>3</th>\n",
       "      <td>drama</td>\n",
       "    </tr>\n",
       "    <tr>\n",
       "      <th>4</th>\n",
       "      <td>drama</td>\n",
       "    </tr>\n",
       "    <tr>\n",
       "      <th>5</th>\n",
       "      <td>drama</td>\n",
       "    </tr>\n",
       "    <tr>\n",
       "      <th>6</th>\n",
       "      <td>drama</td>\n",
       "    </tr>\n",
       "    <tr>\n",
       "      <th>7</th>\n",
       "      <td>comedy</td>\n",
       "    </tr>\n",
       "    <tr>\n",
       "      <th>8</th>\n",
       "      <td>documentary</td>\n",
       "    </tr>\n",
       "    <tr>\n",
       "      <th>9</th>\n",
       "      <td>documentary</td>\n",
       "    </tr>\n",
       "  </tbody>\n",
       "</table>\n",
       "</div>"
      ],
      "text/plain": [
       "               0\n",
       "0         drama \n",
       "1         drama \n",
       "2   documentary \n",
       "3         drama \n",
       "4         drama \n",
       "5         drama \n",
       "6         drama \n",
       "7        comedy \n",
       "8   documentary \n",
       "9   documentary "
      ]
     },
     "execution_count": 68,
     "metadata": {},
     "output_type": "execute_result"
    }
   ],
   "source": [
    "td.head(10)"
   ]
  },
  {
   "cell_type": "code",
   "execution_count": 72,
   "id": "760ba2f2",
   "metadata": {},
   "outputs": [
    {
     "name": "stdout",
     "output_type": "stream",
     "text": [
      "\n",
      "Confusion Matrix:\n",
      "[[  472     2    13     1     0   109     7   108   454     0     1     0\n",
      "      0    31     1     0     0     0     3     0    31    33    12     1\n",
      "     28     0     7     0]\n",
      " [    6   241    23     0     0   137     1    28   115     0     0     0\n",
      "      0     6     0     0     0     0     1     0     2    28     1     0\n",
      "      1     0     0     0]\n",
      " [   34    33   175     6     0    89     0   116   215     4    10     1\n",
      "      0    23     0     0     1     0     4     0    12    28     2     0\n",
      "     12     0    10     0]\n",
      " [   28     0    14    56     0   106     0    61   106    20    10     0\n",
      "      0    14     2     0     0     0     4     0    20    54     1     0\n",
      "      2     0     0     0]\n",
      " [    1     0     1     0     0    16     0   174    56     0     0     0\n",
      "      0     1     3     0     0     0     0     0     0     8     2     1\n",
      "      0     0     1     0]\n",
      " [   67    21    15     9     0  4470     8   375  2064    12     1     5\n",
      "      0    87    15     1     1     2    23     0    23   207     1     8\n",
      "     16     0    14     0]\n",
      " [   36     0     2     0     0    59    20    46   279     0     0     0\n",
      "      0     9     1     0     2     0     0     0     1     7     0     0\n",
      "     40     0     3     0]\n",
      " [   23    17     8     1     0   286     5 11231   908    12     0     2\n",
      "      0    57    65     2     0     2    37     0    15   385    11    11\n",
      "     11     0     7     0]\n",
      " [   79    24    10     1     0  1161     8  1065 10615     4     3     0\n",
      "      0    75     9     3     0     0     8     3    13   413     2     3\n",
      "     96     0    17     0]\n",
      " [    5     0     3    21     0   176     0   127   274    94     4     2\n",
      "      0     6     5     3     0     1    21     0     3    33     2     2\n",
      "      1     0     0     0]\n",
      " [   22     1     8     8     0    33     0    39   115     1    19     0\n",
      "      0    28     0     0     0     0     0     0    10    35     0     1\n",
      "      2     0     0     0]\n",
      " [    2     1     1     0     0    26     0    17     4     0     0   121\n",
      "      0     0     2     0     0     0    11     0     0     6     2     0\n",
      "      0     0     0     0]\n",
      " [    1     1     3     0     0     6     0   156    66     1     0     0\n",
      "      0     3     0     0     0     0     1     0     0     5     0     0\n",
      "      0     0     0     0]\n",
      " [   23     4     6     2     0   129     0    97   417     0     1     0\n",
      "      0  1357     2     0     2     0     3     0     8    68     1     0\n",
      "     81     0     3     0]\n",
      " [    0     2     0     0     0    45     0   243    32     2     0     0\n",
      "      0     0   375     3     0     1     2     0     1    24     0     1\n",
      "      0     0     0     0]\n",
      " [    2     0     0     2     0    72     0    47   104     3     0     0\n",
      "      0     2    25     6     0     0     1     0     0    11     0     0\n",
      "      1     0     0     0]\n",
      " [    3     0     0     0     0    26     6    22   163     0     1     0\n",
      "      0    30     2     0     6     0     0     0     0    20     0     0\n",
      "     36     0     3     0]\n",
      " [    0     0     0     0     0    14     0   109    10     2     0     0\n",
      "      0     0     2     0     0    14     7     0     0     9     2    12\n",
      "      0     0     0     0]\n",
      " [   10     1     0     0     0   172     0   341    89     8     0     8\n",
      "      0     9     9     0     0     1   193     0     1    26     4    11\n",
      "      0     0     0     0]\n",
      " [    7     5     0     0     0   125     0    12   487     0     0     0\n",
      "      0     2     0     1     0     0     0     5     0    24     0     1\n",
      "      1     0     2     0]\n",
      " [   42     3     3     2     0    41     0    89   157     3     0     0\n",
      "      0    31     0     0     0     0     1     0   217    45     0     0\n",
      "     11     0     1     0]\n",
      " [   29    13     3     4     0   496     1  1318  1377    14     2     1\n",
      "      0    83    16     0     0     0     7     0    16  1648     9     3\n",
      "     27     0     5     0]\n",
      " [   11     0     1     0     0    26     0   196    19     2     0     1\n",
      "      0     1     0     0     0     0     9     0     0    14   150     0\n",
      "      0     0     1     0]\n",
      " [    0     0     0     0     0    64     0   171    11     1     0     1\n",
      "      0     3     9     0     0     1    16     0     0    18     1    95\n",
      "      0     0     0     0]\n",
      " [   52     5     1     0     0   136     7    71   828     0     0     0\n",
      "      0   186     0     0     0     0     3     1     8    52     2     0\n",
      "    235     0     3     0]\n",
      " [   15     0     2     0     0     5     0    34    67     0     0     0\n",
      "      0     1     0     0     0     0     0     0     1     2     0     0\n",
      "      0     5     0     0]\n",
      " [   10     0     2     1     0    37     0    13   133     0     0     0\n",
      "      0     5     0     0     0     0     0     0     0     4     0     0\n",
      "      2     0   825     0]\n",
      " [    0     0     0     0     0     0     0     0     0     0     0     0\n",
      "      0     0     0     0     0     0     0     0     0     1     0     0\n",
      "      0     0     0     0]]\n"
     ]
    }
   ],
   "source": [
    "# Converting y_test to string type\n",
    "y_test = y_test.astype(str)\n",
    "# Converting test_predictions to string type\n",
    "test_predictions = test_predictions.astype(str)\n",
    "conf_matrix = confusion_matrix(y_test, test_predictions)\n",
    "print('\\nConfusion Matrix:')\n",
    "print(conf_matrix)"
   ]
  },
  {
   "cell_type": "code",
   "execution_count": 75,
   "id": "a4b55de0",
   "metadata": {},
   "outputs": [
    {
     "name": "stdout",
     "output_type": "stream",
     "text": [
      "Enter a movie description: The Secret Sin (1915)\n",
      "Predicted Genre for User Input:\n",
      " drama \n"
     ]
    }
   ],
   "source": [
    "#User input\n",
    "user_input_description = input(\"Enter a movie description: \")\n",
    "\n",
    "# Converting the user input to TF-IDF features using the same vectorizer\n",
    "user_input_tfidf = vectorizer.transform([user_input_description])\n",
    "\n",
    "# Making predictions on the user input\n",
    "user_prediction = classifier.predict(user_input_tfidf)\n",
    "\n",
    "print('Predicted Genre for User Input:')\n",
    "print(user_prediction[0])"
   ]
  },
  {
   "cell_type": "code",
   "execution_count": null,
   "id": "1e051948",
   "metadata": {},
   "outputs": [],
   "source": []
  }
 ],
 "metadata": {
  "kernelspec": {
   "display_name": "Python 3 (ipykernel)",
   "language": "python",
   "name": "python3"
  },
  "language_info": {
   "codemirror_mode": {
    "name": "ipython",
    "version": 3
   },
   "file_extension": ".py",
   "mimetype": "text/x-python",
   "name": "python",
   "nbconvert_exporter": "python",
   "pygments_lexer": "ipython3",
   "version": "3.9.13"
  }
 },
 "nbformat": 4,
 "nbformat_minor": 5
}
