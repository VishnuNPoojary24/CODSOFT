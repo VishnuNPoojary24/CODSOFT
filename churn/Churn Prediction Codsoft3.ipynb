{
 "cells": [
  {
   "cell_type": "markdown",
   "id": "43ec8213",
   "metadata": {},
   "source": [
    "# CUSTOMER CHURN PREDICTION\n",
    "## Develop a model to predict customer churn for a subscription- based service or business. Use historical customer data, including features like usage behavior and customer demographics, and try algorithms like Logistic Regression, Random Forests, or Gradient Boosting to predict churn."
   ]
  },
  {
   "cell_type": "code",
   "execution_count": 1,
   "id": "6356b8aa",
   "metadata": {},
   "outputs": [],
   "source": [
    "# importing necessary libraries\n",
    "import pandas as pd\n",
    "from sklearn.model_selection import train_test_split, GridSearchCV\n",
    "from sklearn.preprocessing import StandardScaler\n",
    "from sklearn.ensemble import RandomForestClassifier, GradientBoostingClassifier, VotingClassifier\n",
    "from sklearn.linear_model import LogisticRegression\n",
    "from sklearn.metrics import accuracy_score, confusion_matrix, classification_report\n",
    "from imblearn.over_sampling import SMOTE"
   ]
  },
  {
   "cell_type": "code",
   "execution_count": 2,
   "id": "1c301ebc",
   "metadata": {},
   "outputs": [],
   "source": [
    "# Assuming 'Exited' is the target variable\n",
    "target_variable = 'Exited'"
   ]
  },
  {
   "cell_type": "code",
   "execution_count": 16,
   "id": "6ba00a22",
   "metadata": {},
   "outputs": [],
   "source": [
    "# Loading the dataset\n",
    "data = pd.read_csv(\"D:\\\\Codesoft\\\\churn\\\\Churn_Modelling.csv\")"
   ]
  },
  {
   "cell_type": "code",
   "execution_count": 4,
   "id": "b8d4d1dd",
   "metadata": {},
   "outputs": [
    {
     "name": "stdout",
     "output_type": "stream",
     "text": [
      "   RowNumber  CustomerId   Surname  CreditScore Geography  Gender  Age  \\\n",
      "0          1    15634602  Hargrave          619    France  Female   42   \n",
      "1          2    15647311      Hill          608     Spain  Female   41   \n",
      "2          3    15619304      Onio          502    France  Female   42   \n",
      "3          4    15701354      Boni          699    France  Female   39   \n",
      "4          5    15737888  Mitchell          850     Spain  Female   43   \n",
      "\n",
      "   Tenure    Balance  NumOfProducts  HasCrCard  IsActiveMember  \\\n",
      "0       2       0.00              1          1               1   \n",
      "1       1   83807.86              1          0               1   \n",
      "2       8  159660.80              3          1               0   \n",
      "3       1       0.00              2          0               0   \n",
      "4       2  125510.82              1          1               1   \n",
      "\n",
      "   EstimatedSalary  Exited  \n",
      "0        101348.88       1  \n",
      "1        112542.58       0  \n",
      "2        113931.57       1  \n",
      "3         93826.63       0  \n",
      "4         79084.10       0  \n"
     ]
    }
   ],
   "source": [
    "# Exploring the data\n",
    "print(data.head())"
   ]
  },
  {
   "cell_type": "code",
   "execution_count": 5,
   "id": "5697bb9c",
   "metadata": {},
   "outputs": [],
   "source": [
    "# Data Preprocessing\n",
    "data = data.drop(['RowNumber', 'CustomerId'], axis=1)  # Drop irrelevant columns"
   ]
  },
  {
   "cell_type": "code",
   "execution_count": 6,
   "id": "b29fbe2c",
   "metadata": {},
   "outputs": [],
   "source": [
    "# Converting categorical variables to numerical using one-hot encoding\n",
    "data = pd.get_dummies(data, columns=['Geography', 'Gender'], drop_first=True)"
   ]
  },
  {
   "cell_type": "code",
   "execution_count": 7,
   "id": "05069a26",
   "metadata": {},
   "outputs": [],
   "source": [
    "# Droping 'Surname' column for now \n",
    "data = data.drop(['Surname'], axis=1)"
   ]
  },
  {
   "cell_type": "code",
   "execution_count": 8,
   "id": "d36a2907",
   "metadata": {},
   "outputs": [],
   "source": [
    "# Spliting the data into features (X) and target variable (y)\n",
    "X = data.drop(target_variable, axis=1)\n",
    "y = data[target_variable]"
   ]
  },
  {
   "cell_type": "code",
   "execution_count": 9,
   "id": "f8550919",
   "metadata": {},
   "outputs": [],
   "source": [
    "# Handling imbalanced data using SMOTE\n",
    "smote = SMOTE(random_state=42)\n",
    "X_resampled, y_resampled = smote.fit_resample(X, y)\n"
   ]
  },
  {
   "cell_type": "code",
   "execution_count": 10,
   "id": "671517a9",
   "metadata": {},
   "outputs": [],
   "source": [
    "# Spliting the data into training and testing sets\n",
    "X_train, X_test, y_train, y_test = train_test_split(X_resampled, y_resampled, test_size=0.2, random_state=42)"
   ]
  },
  {
   "cell_type": "code",
   "execution_count": 11,
   "id": "153c4406",
   "metadata": {},
   "outputs": [],
   "source": [
    "# Standardizing features\n",
    "scaler = StandardScaler()\n",
    "X_train_scaled = scaler.fit_transform(X_train)\n",
    "X_test_scaled = scaler.transform(X_test)"
   ]
  },
  {
   "cell_type": "code",
   "execution_count": 13,
   "id": "19b367fd",
   "metadata": {},
   "outputs": [
    {
     "name": "stdout",
     "output_type": "stream",
     "text": [
      "Gradient Boosting:\n",
      "Best Parameters: {'learning_rate': 0.2, 'max_depth': 7, 'n_estimators': 200}\n",
      "Accuracy: 0.8772755806654112\n",
      "[[1412  221]\n",
      " [ 170 1383]]\n",
      "              precision    recall  f1-score   support\n",
      "\n",
      "           0       0.89      0.86      0.88      1633\n",
      "           1       0.86      0.89      0.88      1553\n",
      "\n",
      "    accuracy                           0.88      3186\n",
      "   macro avg       0.88      0.88      0.88      3186\n",
      "weighted avg       0.88      0.88      0.88      3186\n",
      "\n"
     ]
    }
   ],
   "source": [
    "# Model Training and Evaluation\n",
    "\n",
    "# Gradient Boosting\n",
    "gb_model = GradientBoostingClassifier(random_state=42)\n",
    "gb_params = {\n",
    "    'n_estimators': [50, 100, 200],\n",
    "    'learning_rate': [0.01, 0.1, 0.2],\n",
    "    'max_depth': [3, 5, 7],\n",
    "}\n",
    "gb_grid = GridSearchCV(estimator=gb_model, param_grid=gb_params, scoring='accuracy', cv=5)\n",
    "gb_grid.fit(X_train_scaled, y_train)\n",
    "gb_best_model = gb_grid.best_estimator_\n",
    "gb_predictions = gb_best_model.predict(X_test_scaled)\n",
    "print(\"Gradient Boosting:\")\n",
    "print(\"Best Parameters:\", gb_grid.best_params_)\n",
    "print(\"Accuracy:\", accuracy_score(y_test, gb_predictions))\n",
    "print(confusion_matrix(y_test, gb_predictions))\n",
    "print(classification_report(y_test, gb_predictions))"
   ]
  },
  {
   "cell_type": "code",
   "execution_count": 15,
   "id": "3442dd44",
   "metadata": {},
   "outputs": [
    {
     "name": "stdout",
     "output_type": "stream",
     "text": [
      "Enter Credit Score: 619\n",
      "Enter Age: 35\n",
      "Enter Tenure: 7\n",
      "Enter Balance: 25000\n",
      "Enter Number of Products: 4\n",
      "Enter 1 if Has Credit Card, 0 otherwise: 1\n",
      "Enter 1 if Active Member, 0 otherwise: 1\n",
      "Enter Estimated Salary: 100250\n",
      "Enter 1 if in Germany, 0 otherwise: 1\n",
      "Enter 1 if in Spain, 0 otherwise: 0\n",
      "Enter 1 if Male, 0 otherwise: 1\n",
      "\n",
      "Predicted Churn Status for User Input:\n",
      "No Churn\n"
     ]
    }
   ],
   "source": [
    "# Accepting the user input for features\n",
    "user_input = {\n",
    "    'CreditScore': float(input(\"Enter Credit Score: \")),\n",
    "    'Age': float(input(\"Enter Age: \")),\n",
    "    'Tenure': float(input(\"Enter Tenure: \")),\n",
    "    'Balance': float(input(\"Enter Balance: \")),\n",
    "    'NumOfProducts': float(input(\"Enter Number of Products: \")),\n",
    "    'HasCrCard': float(input(\"Enter 1 if Has Credit Card, 0 otherwise: \")),\n",
    "    'IsActiveMember': float(input(\"Enter 1 if Active Member, 0 otherwise: \")),\n",
    "    'EstimatedSalary': float(input(\"Enter Estimated Salary: \")),\n",
    "    'Geography_Germany': float(input(\"Enter 1 if in Germany, 0 otherwise: \")),\n",
    "    'Geography_Spain': float(input(\"Enter 1 if in Spain, 0 otherwise: \")),\n",
    "    'Gender_Male': float(input(\"Enter 1 if Male, 0 otherwise: \")),\n",
    "}\n",
    "\n",
    "# Converting user input to DataFrame\n",
    "user_input_df = pd.DataFrame([user_input])\n",
    "\n",
    "# Standardizing user input\n",
    "user_input_scaled = scaler.transform(user_input_df)\n",
    "\n",
    "# Making predictions on the user input\n",
    "user_predictions = gb_best_model.predict(user_input_scaled)\n",
    "\n",
    "print('\\nPredicted Churn Status for User Input:')\n",
    "print(\"Churn\" if user_predictions[0] == 1 else \"No Churn\")\n"
   ]
  },
  {
   "cell_type": "code",
   "execution_count": null,
   "id": "bcd4cd61",
   "metadata": {},
   "outputs": [],
   "source": []
  }
 ],
 "metadata": {
  "kernelspec": {
   "display_name": "Python 3 (ipykernel)",
   "language": "python",
   "name": "python3"
  },
  "language_info": {
   "codemirror_mode": {
    "name": "ipython",
    "version": 3
   },
   "file_extension": ".py",
   "mimetype": "text/x-python",
   "name": "python",
   "nbconvert_exporter": "python",
   "pygments_lexer": "ipython3",
   "version": "3.9.13"
  }
 },
 "nbformat": 4,
 "nbformat_minor": 5
}
